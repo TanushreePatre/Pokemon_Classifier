{
  "nbformat": 4,
  "nbformat_minor": 0,
  "metadata": {
    "colab": {
      "provenance": []
    },
    "kernelspec": {
      "name": "python3",
      "display_name": "Python 3"
    },
    "language_info": {
      "name": "python"
    }
  },
  "cells": [
    {
      "cell_type": "markdown",
      "source": [
        "## Import Libraries"
      ],
      "metadata": {
        "id": "dw6oncQybDzq"
      }
    },
    {
      "cell_type": "code",
      "source": [
        "import numpy as np\n",
        "import pandas as pd\n",
        "import matplotlib.pyplot as plt\n",
        "import os"
      ],
      "metadata": {
        "id": "LcULsftzV2vZ"
      },
      "execution_count": 1,
      "outputs": []
    },
    {
      "cell_type": "markdown",
      "source": [
        "## Download dataset from kaggle"
      ],
      "metadata": {
        "id": "LN1I_txUbWxd"
      }
    },
    {
      "cell_type": "code",
      "source": [
        "!mkdir -p ~/.kaggle\n",
        "!cp kaggle.json ~/.kaggle/"
      ],
      "metadata": {
        "id": "NCrf0yevlEGJ"
      },
      "execution_count": 7,
      "outputs": []
    },
    {
      "cell_type": "code",
      "source": [
        "!kaggle datasets download -d ruhuasiyu/pokemon"
      ],
      "metadata": {
        "colab": {
          "base_uri": "https://localhost:8080/"
        },
        "id": "KR8HlzE3nxAb",
        "outputId": "50f56f26-47db-41c0-9be1-27fbd4063316"
      },
      "execution_count": 8,
      "outputs": [
        {
          "output_type": "stream",
          "name": "stdout",
          "text": [
            "Warning: Your Kaggle API key is readable by other users on this system! To fix this, you can run 'chmod 600 /root/.kaggle/kaggle.json'\n",
            "Downloading pokemon.zip to /content\n",
            " 99% 329M/331M [00:15<00:00, 25.5MB/s]\n",
            "100% 331M/331M [00:15<00:00, 22.0MB/s]\n"
          ]
        }
      ]
    },
    {
      "cell_type": "markdown",
      "source": [
        "## Extracting ZipFile"
      ],
      "metadata": {
        "id": "NJEZ-yj_beFB"
      }
    },
    {
      "cell_type": "code",
      "source": [
        "import zipfile\n",
        "zip_ref = zipfile.ZipFile(\"/content/pokemon.zip\", \"r\")\n",
        "zip_ref.extractall(\"/content\")\n",
        "zip_ref.close()"
      ],
      "metadata": {
        "id": "u9eAPfqgorSE"
      },
      "execution_count": 9,
      "outputs": []
    },
    {
      "cell_type": "code",
      "source": [
        "classes = os.listdir(\"/content/pokeman\")\n",
        "classes"
      ],
      "metadata": {
        "colab": {
          "base_uri": "https://localhost:8080/"
        },
        "id": "bhnVmGVeWJkC",
        "outputId": "640eb5df-81a4-46ab-9a66-44224e9533a2"
      },
      "execution_count": 10,
      "outputs": [
        {
          "output_type": "execute_result",
          "data": {
            "text/plain": [
              "['pikachu', 'bulbasaur', 'mewtwo', 'charmander', 'squirtle']"
            ]
          },
          "metadata": {},
          "execution_count": 10
        }
      ]
    },
    {
      "cell_type": "code",
      "source": [
        "print(\"Training Data:\")\n",
        "for f in classes:\n",
        "    path = \"/content/pokeman/\" + f\n",
        "    print(f\"{f} - {len(os.listdir(path))}\")"
      ],
      "metadata": {
        "colab": {
          "base_uri": "https://localhost:8080/"
        },
        "id": "oaLKkqEWWQ6p",
        "outputId": "d6ded892-63f5-465b-9914-4776e2032d04"
      },
      "execution_count": 12,
      "outputs": [
        {
          "output_type": "stream",
          "name": "stdout",
          "text": [
            "Training Data:\n",
            "pikachu - 234\n",
            "bulbasaur - 234\n",
            "mewtwo - 239\n",
            "charmander - 238\n",
            "squirtle - 223\n"
          ]
        }
      ]
    },
    {
      "cell_type": "markdown",
      "source": [
        "## Data Loading"
      ],
      "metadata": {
        "id": "fxToXIDqbs9V"
      }
    },
    {
      "cell_type": "code",
      "source": [
        "!pip install keras_preprocessing"
      ],
      "metadata": {
        "colab": {
          "base_uri": "https://localhost:8080/"
        },
        "id": "tFHENr2DWejs",
        "outputId": "fdc1d333-d0d4-4d56-966a-6270ee5f507e"
      },
      "execution_count": 13,
      "outputs": [
        {
          "output_type": "stream",
          "name": "stdout",
          "text": [
            "Collecting keras_preprocessing\n",
            "  Downloading Keras_Preprocessing-1.1.2-py2.py3-none-any.whl (42 kB)\n",
            "\u001b[?25l     \u001b[90m━━━━━━━━━━━━━━━━━━━━━━━━━━━━━━━━━━━━━━━━\u001b[0m \u001b[32m0.0/42.6 kB\u001b[0m \u001b[31m?\u001b[0m eta \u001b[36m-:--:--\u001b[0m\r\u001b[2K     \u001b[90m━━━━━━━━━━━━━━━━━━━━━━━━━━━━━━━━━━━━━━━━\u001b[0m \u001b[32m42.6/42.6 kB\u001b[0m \u001b[31m1.3 MB/s\u001b[0m eta \u001b[36m0:00:00\u001b[0m\n",
            "\u001b[?25hRequirement already satisfied: numpy>=1.9.1 in /usr/local/lib/python3.10/dist-packages (from keras_preprocessing) (1.23.5)\n",
            "Requirement already satisfied: six>=1.9.0 in /usr/local/lib/python3.10/dist-packages (from keras_preprocessing) (1.16.0)\n",
            "Installing collected packages: keras_preprocessing\n",
            "Successfully installed keras_preprocessing-1.1.2\n"
          ]
        }
      ]
    },
    {
      "cell_type": "code",
      "source": [
        "from keras_preprocessing import image"
      ],
      "metadata": {
        "id": "5TTT9Xt3Wie4"
      },
      "execution_count": 14,
      "outputs": []
    },
    {
      "cell_type": "code",
      "source": [
        "train_data = [] # X\n",
        "train_labels = [] # Y\n",
        "\n",
        "for category in classes:\n",
        "    folder = f\"/content/pokeman/{category}\"\n",
        "    for img_name in os.listdir(folder):\n",
        "        img_path = f\"{folder}/{img_name}\"\n",
        "\n",
        "        img = image.load_img(img_path, target_size=(100,100))\n",
        "        img = image.img_to_array(img)\n",
        "        train_data.append(img)\n",
        "        train_labels.append(category)"
      ],
      "metadata": {
        "colab": {
          "base_uri": "https://localhost:8080/"
        },
        "id": "sGhYySIqWrSd",
        "outputId": "1d8804b8-6463-4565-890a-a32f912ba400"
      },
      "execution_count": 15,
      "outputs": [
        {
          "output_type": "stream",
          "name": "stderr",
          "text": [
            "/usr/local/lib/python3.10/dist-packages/PIL/Image.py:996: UserWarning: Palette images with Transparency expressed in bytes should be converted to RGBA images\n",
            "  warnings.warn(\n"
          ]
        }
      ]
    },
    {
      "cell_type": "code",
      "source": [
        "len(train_data)"
      ],
      "metadata": {
        "colab": {
          "base_uri": "https://localhost:8080/"
        },
        "id": "pA-3wq3sWuLK",
        "outputId": "792f6acf-c55e-4d26-cc70-44639e61a34a"
      },
      "execution_count": 16,
      "outputs": [
        {
          "output_type": "execute_result",
          "data": {
            "text/plain": [
              "1168"
            ]
          },
          "metadata": {},
          "execution_count": 16
        }
      ]
    },
    {
      "cell_type": "code",
      "source": [
        "len(train_labels)"
      ],
      "metadata": {
        "colab": {
          "base_uri": "https://localhost:8080/"
        },
        "id": "3c9pk5KvW3IY",
        "outputId": "dc53147e-89fe-45bb-dbcc-5e7fe48db8c3"
      },
      "execution_count": 17,
      "outputs": [
        {
          "output_type": "execute_result",
          "data": {
            "text/plain": [
              "1168"
            ]
          },
          "metadata": {},
          "execution_count": 17
        }
      ]
    },
    {
      "cell_type": "code",
      "source": [
        "train_data = np.array(train_data)\n",
        "train_labels = np.array(train_labels)"
      ],
      "metadata": {
        "id": "NciAtlQ9W6pR"
      },
      "execution_count": 18,
      "outputs": []
    },
    {
      "cell_type": "code",
      "source": [
        "train_data.shape"
      ],
      "metadata": {
        "colab": {
          "base_uri": "https://localhost:8080/"
        },
        "id": "zlCQkjdKXFUb",
        "outputId": "bb6587df-9ed3-43d3-899d-ab0f33bea97f"
      },
      "execution_count": 19,
      "outputs": [
        {
          "output_type": "execute_result",
          "data": {
            "text/plain": [
              "(1168, 100, 100, 3)"
            ]
          },
          "metadata": {},
          "execution_count": 19
        }
      ]
    },
    {
      "cell_type": "code",
      "source": [
        "train_labels.shape"
      ],
      "metadata": {
        "colab": {
          "base_uri": "https://localhost:8080/"
        },
        "id": "dzGKOwCrXHa8",
        "outputId": "cbfcab6e-216c-4ef2-a4da-c200ebb716f3"
      },
      "execution_count": 20,
      "outputs": [
        {
          "output_type": "execute_result",
          "data": {
            "text/plain": [
              "(1168,)"
            ]
          },
          "metadata": {},
          "execution_count": 20
        }
      ]
    },
    {
      "cell_type": "code",
      "source": [
        "train_data = train_data.reshape(len(train_data), 30000)\n",
        "train_data.shape"
      ],
      "metadata": {
        "colab": {
          "base_uri": "https://localhost:8080/"
        },
        "id": "eJqg3R3CXJj8",
        "outputId": "d7b09d87-c9c6-4f6d-d025-65a2d48cbfbc"
      },
      "execution_count": 25,
      "outputs": [
        {
          "output_type": "execute_result",
          "data": {
            "text/plain": [
              "(1168, 30000)"
            ]
          },
          "metadata": {},
          "execution_count": 25
        }
      ]
    },
    {
      "cell_type": "code",
      "source": [
        "category2label = {'bulbasaur':0, 'charmander':1, 'mewtwo':2, 'pikachu':3, 'squirtle':4}\n",
        "label2category = {0:'bulbasaur', 1:'charmander', 2:'mewtwo', 3:'pikachu', 4:'squirtle'}"
      ],
      "metadata": {
        "id": "3zrC74hpbzm7"
      },
      "execution_count": 28,
      "outputs": []
    },
    {
      "cell_type": "code",
      "source": [
        "train_labels = np.array([category2label[label] for label in train_labels])"
      ],
      "metadata": {
        "id": "awLNuxA0XMrv"
      },
      "execution_count": 29,
      "outputs": []
    },
    {
      "cell_type": "code",
      "source": [
        "train_labels.shape"
      ],
      "metadata": {
        "colab": {
          "base_uri": "https://localhost:8080/"
        },
        "id": "kR3D62aFaqG-",
        "outputId": "9f57a659-b8d1-4ad3-93c9-9250320f33d0"
      },
      "execution_count": 30,
      "outputs": [
        {
          "output_type": "execute_result",
          "data": {
            "text/plain": [
              "(1168,)"
            ]
          },
          "metadata": {},
          "execution_count": 30
        }
      ]
    },
    {
      "cell_type": "code",
      "source": [
        "from keras.utils import to_categorical"
      ],
      "metadata": {
        "id": "x44svwsob9Kl"
      },
      "execution_count": 31,
      "outputs": []
    },
    {
      "cell_type": "code",
      "source": [
        "train_labels = to_categorical(train_labels)"
      ],
      "metadata": {
        "id": "rD4Y00FFcAyr"
      },
      "execution_count": 32,
      "outputs": []
    },
    {
      "cell_type": "code",
      "source": [
        "train_labels.shape"
      ],
      "metadata": {
        "colab": {
          "base_uri": "https://localhost:8080/"
        },
        "id": "vo9AguYjcH3G",
        "outputId": "a4f098be-4ebc-49b1-be37-21a24d07d897"
      },
      "execution_count": 33,
      "outputs": [
        {
          "output_type": "execute_result",
          "data": {
            "text/plain": [
              "(1168, 5)"
            ]
          },
          "metadata": {},
          "execution_count": 33
        }
      ]
    },
    {
      "cell_type": "code",
      "source": [
        "train_labels[:5]"
      ],
      "metadata": {
        "colab": {
          "base_uri": "https://localhost:8080/"
        },
        "id": "1z1UT5oYcOBZ",
        "outputId": "ea7ca9c0-aeec-47df-c94a-175e2d6d77dd"
      },
      "execution_count": 34,
      "outputs": [
        {
          "output_type": "execute_result",
          "data": {
            "text/plain": [
              "array([[0., 0., 0., 1., 0.],\n",
              "       [0., 0., 0., 1., 0.],\n",
              "       [0., 0., 0., 1., 0.],\n",
              "       [0., 0., 0., 1., 0.],\n",
              "       [0., 0., 0., 1., 0.]], dtype=float32)"
            ]
          },
          "metadata": {},
          "execution_count": 34
        }
      ]
    },
    {
      "cell_type": "code",
      "source": [
        "train_labels[-5:]"
      ],
      "metadata": {
        "colab": {
          "base_uri": "https://localhost:8080/"
        },
        "id": "tTWA4Ic7cSTM",
        "outputId": "96f28b71-2c59-4a34-9efc-6181a5fbb76a"
      },
      "execution_count": 35,
      "outputs": [
        {
          "output_type": "execute_result",
          "data": {
            "text/plain": [
              "array([[0., 0., 0., 0., 1.],\n",
              "       [0., 0., 0., 0., 1.],\n",
              "       [0., 0., 0., 0., 1.],\n",
              "       [0., 0., 0., 0., 1.],\n",
              "       [0., 0., 0., 0., 1.]], dtype=float32)"
            ]
          },
          "metadata": {},
          "execution_count": 35
        }
      ]
    },
    {
      "cell_type": "code",
      "source": [
        "from keras.layers import Dense\n",
        "from keras import Sequential"
      ],
      "metadata": {
        "id": "IclaP1RVcZ-4"
      },
      "execution_count": 36,
      "outputs": []
    },
    {
      "cell_type": "code",
      "source": [
        "features = train_data.shape[1]"
      ],
      "metadata": {
        "id": "9MVOy65KceAD"
      },
      "execution_count": 37,
      "outputs": []
    },
    {
      "cell_type": "markdown",
      "source": [
        "## Model"
      ],
      "metadata": {
        "id": "74CShXz-b5E9"
      }
    },
    {
      "cell_type": "code",
      "source": [
        "model = Sequential()\n",
        "model.add( Dense(units=2048, activation='relu', input_shape=(features,)) )\n",
        "model.add( Dense(units=2048, activation='relu' ) )\n",
        "model.add( Dense(units=1024, activation='relu' ) )\n",
        "model.add( Dense(units=1024, activation='relu' ) )\n",
        "model.add( Dense(units=512, activation='relu' ) )\n",
        "model.add( Dense(units=512, activation='relu' ) )\n",
        "model.add( Dense(units=256, activation='relu' ) )\n",
        "model.add( Dense(units=128, activation='relu' ) )\n",
        "model.add( Dense(units=64, activation='relu' ) )\n",
        "model.add( Dense(units=5, activation='softmax' ) )\n",
        "\n",
        "model.compile(optimizer = \"adam\", loss=\"categorical_crossentropy\", metrics=['accuracy'] )"
      ],
      "metadata": {
        "id": "W-mLeFZWchhF"
      },
      "execution_count": 86,
      "outputs": []
    },
    {
      "cell_type": "code",
      "source": [
        "model.summary()"
      ],
      "metadata": {
        "colab": {
          "base_uri": "https://localhost:8080/"
        },
        "id": "bAgXIfcXcmGn",
        "outputId": "a0abcb44-c9bf-46f7-8c30-791c9a83f24f"
      },
      "execution_count": 74,
      "outputs": [
        {
          "output_type": "stream",
          "name": "stdout",
          "text": [
            "Model: \"sequential_6\"\n",
            "_________________________________________________________________\n",
            " Layer (type)                Output Shape              Param #   \n",
            "=================================================================\n",
            " dense_42 (Dense)            (None, 1024)              30721024  \n",
            "                                                                 \n",
            " dense_43 (Dense)            (None, 1024)              1049600   \n",
            "                                                                 \n",
            " dense_44 (Dense)            (None, 1024)              1049600   \n",
            "                                                                 \n",
            " dense_45 (Dense)            (None, 512)               524800    \n",
            "                                                                 \n",
            " dense_46 (Dense)            (None, 512)               262656    \n",
            "                                                                 \n",
            " dense_47 (Dense)            (None, 256)               131328    \n",
            "                                                                 \n",
            " dense_48 (Dense)            (None, 128)               32896     \n",
            "                                                                 \n",
            " dense_49 (Dense)            (None, 64)                8256      \n",
            "                                                                 \n",
            " dense_50 (Dense)            (None, 5)                 325       \n",
            "                                                                 \n",
            "=================================================================\n",
            "Total params: 33780485 (128.86 MB)\n",
            "Trainable params: 33780485 (128.86 MB)\n",
            "Non-trainable params: 0 (0.00 Byte)\n",
            "_________________________________________________________________\n"
          ]
        }
      ]
    },
    {
      "cell_type": "code",
      "source": [
        "model.fit(train_data, train_labels, batch_size=32, epochs=23)"
      ],
      "metadata": {
        "colab": {
          "base_uri": "https://localhost:8080/"
        },
        "id": "rrb1arkrcrEh",
        "outputId": "1f4e365b-b67d-48a3-b54e-4dd43dbbb8c7"
      },
      "execution_count": 90,
      "outputs": [
        {
          "output_type": "stream",
          "name": "stdout",
          "text": [
            "Epoch 1/23\n",
            "37/37 [==============================] - 1s 29ms/step - loss: 0.3151 - accuracy: 0.8896\n",
            "Epoch 2/23\n",
            "37/37 [==============================] - 1s 23ms/step - loss: 0.2135 - accuracy: 0.9229\n",
            "Epoch 3/23\n",
            "37/37 [==============================] - 1s 24ms/step - loss: 0.1122 - accuracy: 0.9632\n",
            "Epoch 4/23\n",
            "37/37 [==============================] - 1s 24ms/step - loss: 0.4693 - accuracy: 0.8408\n",
            "Epoch 5/23\n",
            "37/37 [==============================] - 1s 24ms/step - loss: 0.3953 - accuracy: 0.8793\n",
            "Epoch 6/23\n",
            "37/37 [==============================] - 1s 25ms/step - loss: 0.1576 - accuracy: 0.9538\n",
            "Epoch 7/23\n",
            "37/37 [==============================] - 1s 25ms/step - loss: 0.2708 - accuracy: 0.9015\n",
            "Epoch 8/23\n",
            "37/37 [==============================] - 1s 22ms/step - loss: 0.2135 - accuracy: 0.9324\n",
            "Epoch 9/23\n",
            "37/37 [==============================] - 1s 22ms/step - loss: 0.1676 - accuracy: 0.9401\n",
            "Epoch 10/23\n",
            "37/37 [==============================] - 1s 22ms/step - loss: 0.2148 - accuracy: 0.9332\n",
            "Epoch 11/23\n",
            "37/37 [==============================] - 1s 22ms/step - loss: 0.1781 - accuracy: 0.9384\n",
            "Epoch 12/23\n",
            "37/37 [==============================] - 1s 22ms/step - loss: 0.1823 - accuracy: 0.9341\n",
            "Epoch 13/23\n",
            "37/37 [==============================] - 1s 22ms/step - loss: 0.2887 - accuracy: 0.9041\n",
            "Epoch 14/23\n",
            "37/37 [==============================] - 1s 22ms/step - loss: 0.1332 - accuracy: 0.9598\n",
            "Epoch 15/23\n",
            "37/37 [==============================] - 1s 22ms/step - loss: 0.1189 - accuracy: 0.9598\n",
            "Epoch 16/23\n",
            "37/37 [==============================] - 1s 22ms/step - loss: 0.0775 - accuracy: 0.9717\n",
            "Epoch 17/23\n",
            "37/37 [==============================] - 1s 24ms/step - loss: 0.2117 - accuracy: 0.9289\n",
            "Epoch 18/23\n",
            "37/37 [==============================] - 1s 24ms/step - loss: 0.2253 - accuracy: 0.9135\n",
            "Epoch 19/23\n",
            "37/37 [==============================] - 1s 24ms/step - loss: 0.1383 - accuracy: 0.9546\n",
            "Epoch 20/23\n",
            "37/37 [==============================] - 1s 23ms/step - loss: 0.1100 - accuracy: 0.9649\n",
            "Epoch 21/23\n",
            "37/37 [==============================] - 1s 23ms/step - loss: 0.0959 - accuracy: 0.9675\n",
            "Epoch 22/23\n",
            "37/37 [==============================] - 1s 22ms/step - loss: 0.1398 - accuracy: 0.9503\n",
            "Epoch 23/23\n",
            "37/37 [==============================] - 1s 22ms/step - loss: 0.1032 - accuracy: 0.9658\n"
          ]
        },
        {
          "output_type": "execute_result",
          "data": {
            "text/plain": [
              "<keras.src.callbacks.History at 0x7eaf34d50c10>"
            ]
          },
          "metadata": {},
          "execution_count": 90
        }
      ]
    },
    {
      "cell_type": "markdown",
      "source": [
        "## Testing"
      ],
      "metadata": {
        "id": "YyELG6_Hb_XP"
      }
    },
    {
      "cell_type": "code",
      "source": [
        "test_img = \"/content/char.jpg\"\n",
        "\n",
        "img = image.load_img(test_img, target_size=(100,100))\n",
        "img = image.img_to_array(img)\n",
        "img.shape"
      ],
      "metadata": {
        "colab": {
          "base_uri": "https://localhost:8080/"
        },
        "id": "nK14C9xZd018",
        "outputId": "abf3a940-8508-4806-d799-64ba6e89f146"
      },
      "execution_count": 91,
      "outputs": [
        {
          "output_type": "execute_result",
          "data": {
            "text/plain": [
              "(100, 100, 3)"
            ]
          },
          "metadata": {},
          "execution_count": 91
        }
      ]
    },
    {
      "cell_type": "code",
      "source": [
        "plt.imshow(img.astype('int'));"
      ],
      "metadata": {
        "colab": {
          "base_uri": "https://localhost:8080/",
          "height": 433
        },
        "id": "hBuDf4l1eK8D",
        "outputId": "6e951fed-b0da-4a58-a075-f17c17c8a5ce"
      },
      "execution_count": 92,
      "outputs": [
        {
          "output_type": "display_data",
          "data": {
            "text/plain": [
              "<Figure size 640x480 with 1 Axes>"
            ],
            "image/png": "[encoded data removed]"
          },
          "metadata": {}
        }
      ]
    },
    {
      "cell_type": "code",
      "source": [
        "img = img.reshape(1, 30000)\n",
        "img.shape"
      ],
      "metadata": {
        "colab": {
          "base_uri": "https://localhost:8080/"
        },
        "id": "rVnM_z-NeOG3",
        "outputId": "7c97cf29-1f96-413d-bbdd-eacc13140d34"
      },
      "execution_count": 93,
      "outputs": [
        {
          "output_type": "execute_result",
          "data": {
            "text/plain": [
              "(1, 30000)"
            ]
          },
          "metadata": {},
          "execution_count": 93
        }
      ]
    },
    {
      "cell_type": "code",
      "source": [
        "pred = label2category[model.predict(img).argmax()]\n",
        "pred"
      ],
      "metadata": {
        "colab": {
          "base_uri": "https://localhost:8080/",
          "height": 55
        },
        "id": "5lGww4PxeR_O",
        "outputId": "3b975ecc-18d9-4c7f-bcf0-170cbb094457"
      },
      "execution_count": 94,
      "outputs": [
        {
          "output_type": "stream",
          "name": "stdout",
          "text": [
            "1/1 [==============================] - 0s 92ms/step\n"
          ]
        },
        {
          "output_type": "execute_result",
          "data": {
            "text/plain": [
              "'charmander'"
            ],
            "application/vnd.google.colaboratory.intrinsic+json": {
              "type": "string"
            }
          },
          "metadata": {},
          "execution_count": 94
        }
      ]
    }
  ]
}